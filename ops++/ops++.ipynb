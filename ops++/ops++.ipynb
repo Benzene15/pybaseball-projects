{
 "cells": [
  {
   "cell_type": "markdown",
   "metadata": {},
   "source": [
    "## Install (run once)"
   ]
  },
  {
   "cell_type": "code",
   "execution_count": 51,
   "metadata": {},
   "outputs": [
    {
     "name": "stdout",
     "output_type": "stream",
     "text": [
      "fatal: destination path 'pybaseball' already exists and is not an empty directory.\n",
      "/Users/benzene/Documents/personal_code/pybaseball/ops++/pybaseball/pybaseball\n",
      "\u001b[31mERROR: File \"setup.py\" or \"setup.cfg\" not found. Directory cannot be installed in editable mode: /Users/benzene/Documents/personal_code/pybaseball/ops++/pybaseball/pybaseball\u001b[0m\n",
      "Defaulting to user installation because normal site-packages is not writeable\n",
      "Requirement already satisfied: plotly in /Users/benzene/Library/Python/3.9/lib/python/site-packages (5.13.0)\n",
      "Requirement already satisfied: tenacity>=6.2.0 in /Users/benzene/Library/Python/3.9/lib/python/site-packages (from plotly) (8.2.1)\n",
      "\u001b[33mWARNING: You are using pip version 21.2.4; however, version 23.1.2 is available.\n",
      "You should consider upgrading via the '/Library/Developer/CommandLineTools/usr/bin/python3 -m pip install --upgrade pip' command.\u001b[0m\n"
     ]
    }
   ],
   "source": [
    "!git clone https://github.com/jldbc/pybaseball\n",
    "%cd pybaseball\n",
    "!pip install -e .\n",
    "\n",
    "from pybaseball import statcast_batter, playerid_lookup\n",
    "from pybaseball import statcast\n",
    "from pybaseball import cache\n",
    "import pandas as pd\n",
    "\n",
    "!pip3 install plotly\n",
    "import plotly.express as px\n",
    "\n",
    "cache.enable()"
   ]
  },
  {
   "cell_type": "markdown",
   "metadata": {},
   "source": [
    "## Collect data league wide"
   ]
  },
  {
   "cell_type": "code",
   "execution_count": 2,
   "metadata": {},
   "outputs": [
    {
     "name": "stdout",
     "output_type": "stream",
     "text": [
      "This is a large query, it may take a moment to complete\n",
      "Skipping offseason dates\n"
     ]
    },
    {
     "name": "stderr",
     "output_type": "stream",
     "text": [
      "100%|██████████| 224/224 [03:13<00:00,  1.16it/s]\n"
     ]
    }
   ],
   "source": [
    "data_2022 = statcast(start_dt='2022-04-06', end_dt='2022-12-31')"
   ]
  },
  {
   "cell_type": "code",
   "execution_count": 4,
   "metadata": {},
   "outputs": [],
   "source": [
    "# Change many differnt outs to just be an out\n",
    "outs = ['field_out', 'force_out', 'grounded_into_double_play', 'fielders_choice_out', \n",
    "        'sac_bunt_double_play', 'fielders_choice', 'double_play', 'triple_play', \n",
    "        'sac_fly_double_play', 'strikeout_double_play', 'strikeout', 'other_out']\n",
    "\n",
    "data_2022.loc[data_2022['events'].isin(outs), 'events'] = 'out'\n",
    "care_about = ['hit_by_pitch', 'out', 'walk', 'home_run', 'double', 'sac_fly', 'triple', 'single']\n",
    "data_2022 = data_2022.loc[data_2022['events'].isin(care_about)]"
   ]
  },
  {
   "cell_type": "code",
   "execution_count": 5,
   "metadata": {},
   "outputs": [
    {
     "data": {
      "text/html": [
       "<div>\n",
       "<style scoped>\n",
       "    .dataframe tbody tr th:only-of-type {\n",
       "        vertical-align: middle;\n",
       "    }\n",
       "\n",
       "    .dataframe tbody tr th {\n",
       "        vertical-align: top;\n",
       "    }\n",
       "\n",
       "    .dataframe thead th {\n",
       "        text-align: right;\n",
       "    }\n",
       "</style>\n",
       "<table border=\"1\" class=\"dataframe\">\n",
       "  <thead>\n",
       "    <tr style=\"text-align: right;\">\n",
       "      <th></th>\n",
       "      <th>release_speed</th>\n",
       "      <th>release_pos_x</th>\n",
       "      <th>release_pos_z</th>\n",
       "      <th>batter</th>\n",
       "      <th>pitcher</th>\n",
       "      <th>spin_dir</th>\n",
       "      <th>spin_rate_deprecated</th>\n",
       "      <th>break_angle_deprecated</th>\n",
       "      <th>break_length_deprecated</th>\n",
       "      <th>zone</th>\n",
       "      <th>...</th>\n",
       "      <th>away_score</th>\n",
       "      <th>bat_score</th>\n",
       "      <th>fld_score</th>\n",
       "      <th>post_away_score</th>\n",
       "      <th>post_home_score</th>\n",
       "      <th>post_bat_score</th>\n",
       "      <th>post_fld_score</th>\n",
       "      <th>spin_axis</th>\n",
       "      <th>delta_home_win_exp</th>\n",
       "      <th>delta_run_exp</th>\n",
       "    </tr>\n",
       "  </thead>\n",
       "  <tbody>\n",
       "    <tr>\n",
       "      <th>count</th>\n",
       "      <td>182505.0</td>\n",
       "      <td>182509.0</td>\n",
       "      <td>182509.0</td>\n",
       "      <td>183039.0</td>\n",
       "      <td>183039.0</td>\n",
       "      <td>0.0</td>\n",
       "      <td>0.0</td>\n",
       "      <td>0.0</td>\n",
       "      <td>0.0</td>\n",
       "      <td>182509.0</td>\n",
       "      <td>...</td>\n",
       "      <td>183039.0</td>\n",
       "      <td>183039.0</td>\n",
       "      <td>183039.0</td>\n",
       "      <td>183039.0</td>\n",
       "      <td>183039.0</td>\n",
       "      <td>183039.0</td>\n",
       "      <td>183039.0</td>\n",
       "      <td>182018.0</td>\n",
       "      <td>183039.0</td>\n",
       "      <td>182966.0</td>\n",
       "    </tr>\n",
       "    <tr>\n",
       "      <th>mean</th>\n",
       "      <td>89.016052</td>\n",
       "      <td>-0.809914</td>\n",
       "      <td>5.796464</td>\n",
       "      <td>614750.219931</td>\n",
       "      <td>613272.238944</td>\n",
       "      <td>&lt;NA&gt;</td>\n",
       "      <td>&lt;NA&gt;</td>\n",
       "      <td>&lt;NA&gt;</td>\n",
       "      <td>&lt;NA&gt;</td>\n",
       "      <td>7.945247</td>\n",
       "      <td>...</td>\n",
       "      <td>2.20577</td>\n",
       "      <td>2.119576</td>\n",
       "      <td>2.148553</td>\n",
       "      <td>2.26148</td>\n",
       "      <td>2.118947</td>\n",
       "      <td>2.231874</td>\n",
       "      <td>2.148553</td>\n",
       "      <td>176.183152</td>\n",
       "      <td>0.000425</td>\n",
       "      <td>0.007175</td>\n",
       "    </tr>\n",
       "    <tr>\n",
       "      <th>std</th>\n",
       "      <td>6.141273</td>\n",
       "      <td>1.827518</td>\n",
       "      <td>0.568952</td>\n",
       "      <td>59732.767003</td>\n",
       "      <td>61559.290231</td>\n",
       "      <td>&lt;NA&gt;</td>\n",
       "      <td>&lt;NA&gt;</td>\n",
       "      <td>&lt;NA&gt;</td>\n",
       "      <td>&lt;NA&gt;</td>\n",
       "      <td>4.078035</td>\n",
       "      <td>...</td>\n",
       "      <td>2.575636</td>\n",
       "      <td>2.485302</td>\n",
       "      <td>2.561739</td>\n",
       "      <td>2.598772</td>\n",
       "      <td>2.494656</td>\n",
       "      <td>2.533991</td>\n",
       "      <td>2.561739</td>\n",
       "      <td>71.40087</td>\n",
       "      <td>0.05521</td>\n",
       "      <td>0.458248</td>\n",
       "    </tr>\n",
       "    <tr>\n",
       "      <th>min</th>\n",
       "      <td>32.7</td>\n",
       "      <td>-4.95</td>\n",
       "      <td>0.87</td>\n",
       "      <td>405395.0</td>\n",
       "      <td>405395.0</td>\n",
       "      <td>&lt;NA&gt;</td>\n",
       "      <td>&lt;NA&gt;</td>\n",
       "      <td>&lt;NA&gt;</td>\n",
       "      <td>&lt;NA&gt;</td>\n",
       "      <td>1.0</td>\n",
       "      <td>...</td>\n",
       "      <td>0.0</td>\n",
       "      <td>0.0</td>\n",
       "      <td>0.0</td>\n",
       "      <td>0.0</td>\n",
       "      <td>0.0</td>\n",
       "      <td>0.0</td>\n",
       "      <td>0.0</td>\n",
       "      <td>0.0</td>\n",
       "      <td>-0.736</td>\n",
       "      <td>-1.473</td>\n",
       "    </tr>\n",
       "    <tr>\n",
       "      <th>25%</th>\n",
       "      <td>84.8</td>\n",
       "      <td>-2.08</td>\n",
       "      <td>5.52</td>\n",
       "      <td>592206.0</td>\n",
       "      <td>592789.0</td>\n",
       "      <td>&lt;NA&gt;</td>\n",
       "      <td>&lt;NA&gt;</td>\n",
       "      <td>&lt;NA&gt;</td>\n",
       "      <td>&lt;NA&gt;</td>\n",
       "      <td>5.0</td>\n",
       "      <td>...</td>\n",
       "      <td>0.0</td>\n",
       "      <td>0.0</td>\n",
       "      <td>0.0</td>\n",
       "      <td>0.0</td>\n",
       "      <td>0.0</td>\n",
       "      <td>0.0</td>\n",
       "      <td>0.0</td>\n",
       "      <td>131.0</td>\n",
       "      <td>-0.022</td>\n",
       "      <td>-0.252</td>\n",
       "    </tr>\n",
       "    <tr>\n",
       "      <th>50%</th>\n",
       "      <td>89.9</td>\n",
       "      <td>-1.5</td>\n",
       "      <td>5.84</td>\n",
       "      <td>640458.0</td>\n",
       "      <td>623474.0</td>\n",
       "      <td>&lt;NA&gt;</td>\n",
       "      <td>&lt;NA&gt;</td>\n",
       "      <td>&lt;NA&gt;</td>\n",
       "      <td>&lt;NA&gt;</td>\n",
       "      <td>8.0</td>\n",
       "      <td>...</td>\n",
       "      <td>1.0</td>\n",
       "      <td>1.0</td>\n",
       "      <td>1.0</td>\n",
       "      <td>1.0</td>\n",
       "      <td>1.0</td>\n",
       "      <td>1.0</td>\n",
       "      <td>1.0</td>\n",
       "      <td>200.0</td>\n",
       "      <td>0.0</td>\n",
       "      <td>-0.141</td>\n",
       "    </tr>\n",
       "    <tr>\n",
       "      <th>75%</th>\n",
       "      <td>93.9</td>\n",
       "      <td>0.88</td>\n",
       "      <td>6.14</td>\n",
       "      <td>664034.0</td>\n",
       "      <td>663556.0</td>\n",
       "      <td>&lt;NA&gt;</td>\n",
       "      <td>&lt;NA&gt;</td>\n",
       "      <td>&lt;NA&gt;</td>\n",
       "      <td>&lt;NA&gt;</td>\n",
       "      <td>12.0</td>\n",
       "      <td>...</td>\n",
       "      <td>3.0</td>\n",
       "      <td>3.0</td>\n",
       "      <td>3.0</td>\n",
       "      <td>3.0</td>\n",
       "      <td>3.0</td>\n",
       "      <td>3.0</td>\n",
       "      <td>3.0</td>\n",
       "      <td>223.0</td>\n",
       "      <td>0.022</td>\n",
       "      <td>0.203</td>\n",
       "    </tr>\n",
       "    <tr>\n",
       "      <th>max</th>\n",
       "      <td>104.2</td>\n",
       "      <td>4.75</td>\n",
       "      <td>7.51</td>\n",
       "      <td>691910.0</td>\n",
       "      <td>801389.0</td>\n",
       "      <td>&lt;NA&gt;</td>\n",
       "      <td>&lt;NA&gt;</td>\n",
       "      <td>&lt;NA&gt;</td>\n",
       "      <td>&lt;NA&gt;</td>\n",
       "      <td>14.0</td>\n",
       "      <td>...</td>\n",
       "      <td>28.0</td>\n",
       "      <td>28.0</td>\n",
       "      <td>28.0</td>\n",
       "      <td>28.0</td>\n",
       "      <td>21.0</td>\n",
       "      <td>28.0</td>\n",
       "      <td>28.0</td>\n",
       "      <td>360.0</td>\n",
       "      <td>0.91</td>\n",
       "      <td>3.605</td>\n",
       "    </tr>\n",
       "  </tbody>\n",
       "</table>\n",
       "<p>8 rows × 75 columns</p>\n",
       "</div>"
      ],
      "text/plain": [
       "       release_speed  release_pos_x  release_pos_z         batter  \\\n",
       "count       182505.0       182509.0       182509.0       183039.0   \n",
       "mean       89.016052      -0.809914       5.796464  614750.219931   \n",
       "std         6.141273       1.827518       0.568952   59732.767003   \n",
       "min             32.7          -4.95           0.87       405395.0   \n",
       "25%             84.8          -2.08           5.52       592206.0   \n",
       "50%             89.9           -1.5           5.84       640458.0   \n",
       "75%             93.9           0.88           6.14       664034.0   \n",
       "max            104.2           4.75           7.51       691910.0   \n",
       "\n",
       "             pitcher  spin_dir  spin_rate_deprecated  break_angle_deprecated  \\\n",
       "count       183039.0       0.0                   0.0                     0.0   \n",
       "mean   613272.238944      <NA>                  <NA>                    <NA>   \n",
       "std     61559.290231      <NA>                  <NA>                    <NA>   \n",
       "min         405395.0      <NA>                  <NA>                    <NA>   \n",
       "25%         592789.0      <NA>                  <NA>                    <NA>   \n",
       "50%         623474.0      <NA>                  <NA>                    <NA>   \n",
       "75%         663556.0      <NA>                  <NA>                    <NA>   \n",
       "max         801389.0      <NA>                  <NA>                    <NA>   \n",
       "\n",
       "       break_length_deprecated      zone  ...  away_score  bat_score  \\\n",
       "count                      0.0  182509.0  ...    183039.0   183039.0   \n",
       "mean                      <NA>  7.945247  ...     2.20577   2.119576   \n",
       "std                       <NA>  4.078035  ...    2.575636   2.485302   \n",
       "min                       <NA>       1.0  ...         0.0        0.0   \n",
       "25%                       <NA>       5.0  ...         0.0        0.0   \n",
       "50%                       <NA>       8.0  ...         1.0        1.0   \n",
       "75%                       <NA>      12.0  ...         3.0        3.0   \n",
       "max                       <NA>      14.0  ...        28.0       28.0   \n",
       "\n",
       "       fld_score  post_away_score  post_home_score  post_bat_score  \\\n",
       "count   183039.0         183039.0         183039.0        183039.0   \n",
       "mean    2.148553          2.26148         2.118947        2.231874   \n",
       "std     2.561739         2.598772         2.494656        2.533991   \n",
       "min          0.0              0.0              0.0             0.0   \n",
       "25%          0.0              0.0              0.0             0.0   \n",
       "50%          1.0              1.0              1.0             1.0   \n",
       "75%          3.0              3.0              3.0             3.0   \n",
       "max         28.0             28.0             21.0            28.0   \n",
       "\n",
       "       post_fld_score   spin_axis  delta_home_win_exp  delta_run_exp  \n",
       "count        183039.0    182018.0            183039.0       182966.0  \n",
       "mean         2.148553  176.183152            0.000425       0.007175  \n",
       "std          2.561739    71.40087             0.05521       0.458248  \n",
       "min               0.0         0.0              -0.736         -1.473  \n",
       "25%               0.0       131.0              -0.022         -0.252  \n",
       "50%               1.0       200.0                 0.0         -0.141  \n",
       "75%               3.0       223.0               0.022          0.203  \n",
       "max              28.0       360.0                0.91          3.605  \n",
       "\n",
       "[8 rows x 75 columns]"
      ]
     },
     "execution_count": 5,
     "metadata": {},
     "output_type": "execute_result"
    }
   ],
   "source": [
    "data_2022.describe()"
   ]
  },
  {
   "cell_type": "code",
   "execution_count": 6,
   "metadata": {},
   "outputs": [
    {
     "data": {
      "text/plain": [
       "array(['out', 'single', 'walk', 'home_run', 'hit_by_pitch', 'double',\n",
       "       'sac_fly', 'triple'], dtype=object)"
      ]
     },
     "execution_count": 6,
     "metadata": {},
     "output_type": "execute_result"
    }
   ],
   "source": [
    "# Check to make sure that we have the right types of events\n",
    "data_2022['events'].unique()"
   ]
  },
  {
   "cell_type": "code",
   "execution_count": 72,
   "metadata": {},
   "outputs": [],
   "source": [
    "def make_ops(df):\n",
    "    teams = df['home_team'].unique()\n",
    "\n",
    "    player_ops = 0\n",
    "    total_abs = len(df)\n",
    "\n",
    "    df = df.groupby(['home_team', 'events']).count()\n",
    "    df = df.add_suffix('_Count').reset_index()\n",
    "    df = df[['home_team', 'events', 'away_team_Count']]\n",
    "\n",
    "    # Taken from https://baseballsavant.mlb.com/leaderboard/statcast-park-factors\n",
    "    park_factor = {\n",
    "        'ATL': 100,\n",
    "        'AZ': 101,\n",
    "        'BAL': 101,\n",
    "        'BOS': 109,\n",
    "        'CHC': 98,\n",
    "        'CIN': 111,\n",
    "        'CLE': 99,\n",
    "        'COL': 112,\n",
    "        'CWS': 102,\n",
    "        'DET': 97,\n",
    "        'HOU': 98,\n",
    "        'KC': 103,\n",
    "        'LAA': 104,\n",
    "        'LAD': 102,\n",
    "        'MIA': 99,\n",
    "        'MIL': 100,\n",
    "        'MIN': 98,\n",
    "        'NYM': 96,\n",
    "        'NYY': 99,\n",
    "        'OAK':94,\n",
    "        'PHI': 103,\n",
    "        'PIT': 100,\n",
    "        'SD': 94, \n",
    "        'SEA': 91,\n",
    "        'SF': 100,\n",
    "        'STL': 95,\n",
    "        'TB': 96,\n",
    "        'TEX': 99,\n",
    "        'TOR': 99,\n",
    "        'WSH': 100\n",
    "    }\n",
    "\n",
    "    for i in teams:\n",
    "        team_df = df.loc[df['home_team'] == i]\n",
    "        AB = team_df['away_team_Count'].sum()\n",
    "        team_df = team_df.pivot_table(index=['home_team'], \n",
    "                        columns='events', \n",
    "                        values='away_team_Count')\n",
    "        \n",
    "        single = int(team_df['single']) if 'single' in team_df else 0\n",
    "        double = int(team_df['double']) if 'double' in team_df else 0\n",
    "        triple = int(team_df['triple']) if 'triple' in team_df else 0\n",
    "        home_run = int(team_df['home_run']) if 'home_run' in team_df else 0\n",
    "\n",
    "        H = single + double + triple + home_run\n",
    "        BB = int(team_df['walk']) if 'walk' in team_df else 0\n",
    "        HBP = int(team_df['hit_by_pitch']) if 'hit_by_pitch' in team_df else 0\n",
    "        SF = int(team_df['sac_fly']) if 'sac_fly' in team_df else 0\n",
    "        TB = single + (2 * double) + (3 * triple) + (4 * home_run)\n",
    "\n",
    "        AB = AB - BB - HBP - SF\n",
    "        if(AB != 0):\n",
    "            ops_team = (((H + BB + HBP) / (AB + BB + SF + HBP)) + (TB/AB)) * (100/park_factor[i])\n",
    "            player_ops += (ops_team) * (AB/total_abs)\n",
    "            \n",
    "    return player_ops"
   ]
  },
  {
   "cell_type": "code",
   "execution_count": 74,
   "metadata": {},
   "outputs": [
    {
     "name": "stdout",
     "output_type": "stream",
     "text": [
      "ave_ops: 0.6387842369057117\n"
     ]
    }
   ],
   "source": [
    "# Find average ops this will help to normalize our ops++\n",
    "ave_ops = make_ops(data_2022)\n",
    "print('ave_ops: {}'.format(ave_ops))\n"
   ]
  },
  {
   "cell_type": "markdown",
   "metadata": {},
   "source": [
    "## Data for single player"
   ]
  },
  {
   "cell_type": "code",
   "execution_count": 75,
   "metadata": {},
   "outputs": [],
   "source": [
    "def make_ops_pp(df, ave_ops):\n",
    "    player_ops = make_ops(df)\n",
    "            \n",
    "    return round((player_ops/ave_ops)*100)"
   ]
  },
  {
   "cell_type": "code",
   "execution_count": 76,
   "metadata": {},
   "outputs": [
    {
     "data": {
      "text/html": [
       "<div>\n",
       "<style scoped>\n",
       "    .dataframe tbody tr th:only-of-type {\n",
       "        vertical-align: middle;\n",
       "    }\n",
       "\n",
       "    .dataframe tbody tr th {\n",
       "        vertical-align: top;\n",
       "    }\n",
       "\n",
       "    .dataframe thead th {\n",
       "        text-align: right;\n",
       "    }\n",
       "</style>\n",
       "<table border=\"1\" class=\"dataframe\">\n",
       "  <thead>\n",
       "    <tr style=\"text-align: right;\">\n",
       "      <th></th>\n",
       "      <th>pitch_type</th>\n",
       "      <th>game_date</th>\n",
       "      <th>release_speed</th>\n",
       "      <th>release_pos_x</th>\n",
       "      <th>release_pos_z</th>\n",
       "      <th>player_name</th>\n",
       "      <th>batter</th>\n",
       "      <th>pitcher</th>\n",
       "      <th>events</th>\n",
       "      <th>description</th>\n",
       "      <th>...</th>\n",
       "      <th>fld_score</th>\n",
       "      <th>post_away_score</th>\n",
       "      <th>post_home_score</th>\n",
       "      <th>post_bat_score</th>\n",
       "      <th>post_fld_score</th>\n",
       "      <th>if_fielding_alignment</th>\n",
       "      <th>of_fielding_alignment</th>\n",
       "      <th>spin_axis</th>\n",
       "      <th>delta_home_win_exp</th>\n",
       "      <th>delta_run_exp</th>\n",
       "    </tr>\n",
       "  </thead>\n",
       "  <tbody>\n",
       "    <tr>\n",
       "      <th>0</th>\n",
       "      <td>FF</td>\n",
       "      <td>2022-10-15</td>\n",
       "      <td>92.0</td>\n",
       "      <td>-1.29</td>\n",
       "      <td>6.39</td>\n",
       "      <td>Betts, Mookie</td>\n",
       "      <td>605141</td>\n",
       "      <td>605397</td>\n",
       "      <td>out</td>\n",
       "      <td>hit_into_play</td>\n",
       "      <td>...</td>\n",
       "      <td>0</td>\n",
       "      <td>2</td>\n",
       "      <td>0</td>\n",
       "      <td>2</td>\n",
       "      <td>0</td>\n",
       "      <td>Infield shift</td>\n",
       "      <td>Standard</td>\n",
       "      <td>205.0</td>\n",
       "      <td>0.017</td>\n",
       "      <td>-0.221</td>\n",
       "    </tr>\n",
       "    <tr>\n",
       "      <th>1</th>\n",
       "      <td>FF</td>\n",
       "      <td>2022-10-15</td>\n",
       "      <td>94.2</td>\n",
       "      <td>-1.26</td>\n",
       "      <td>6.38</td>\n",
       "      <td>Betts, Mookie</td>\n",
       "      <td>605141</td>\n",
       "      <td>605397</td>\n",
       "      <td>walk</td>\n",
       "      <td>ball</td>\n",
       "      <td>...</td>\n",
       "      <td>0</td>\n",
       "      <td>0</td>\n",
       "      <td>0</td>\n",
       "      <td>0</td>\n",
       "      <td>0</td>\n",
       "      <td>Infield shift</td>\n",
       "      <td>Standard</td>\n",
       "      <td>209.0</td>\n",
       "      <td>-0.028</td>\n",
       "      <td>0.212</td>\n",
       "    </tr>\n",
       "    <tr>\n",
       "      <th>7</th>\n",
       "      <td>SL</td>\n",
       "      <td>2022-10-15</td>\n",
       "      <td>81.9</td>\n",
       "      <td>-2.12</td>\n",
       "      <td>5.33</td>\n",
       "      <td>Betts, Mookie</td>\n",
       "      <td>605141</td>\n",
       "      <td>621051</td>\n",
       "      <td>walk</td>\n",
       "      <td>ball</td>\n",
       "      <td>...</td>\n",
       "      <td>0</td>\n",
       "      <td>2</td>\n",
       "      <td>0</td>\n",
       "      <td>2</td>\n",
       "      <td>0</td>\n",
       "      <td>Infield shift</td>\n",
       "      <td>Standard</td>\n",
       "      <td>76.0</td>\n",
       "      <td>-0.023</td>\n",
       "      <td>0.321</td>\n",
       "    </tr>\n",
       "    <tr>\n",
       "      <th>9</th>\n",
       "      <td>FF</td>\n",
       "      <td>2022-10-15</td>\n",
       "      <td>95.2</td>\n",
       "      <td>-1.28</td>\n",
       "      <td>6.35</td>\n",
       "      <td>Betts, Mookie</td>\n",
       "      <td>605141</td>\n",
       "      <td>605397</td>\n",
       "      <td>out</td>\n",
       "      <td>called_strike</td>\n",
       "      <td>...</td>\n",
       "      <td>0</td>\n",
       "      <td>0</td>\n",
       "      <td>0</td>\n",
       "      <td>0</td>\n",
       "      <td>0</td>\n",
       "      <td>Infield shift</td>\n",
       "      <td>Standard</td>\n",
       "      <td>213.0</td>\n",
       "      <td>0.022</td>\n",
       "      <td>-0.195</td>\n",
       "    </tr>\n",
       "    <tr>\n",
       "      <th>13</th>\n",
       "      <td>SL</td>\n",
       "      <td>2022-10-15</td>\n",
       "      <td>85.8</td>\n",
       "      <td>3.30</td>\n",
       "      <td>5.24</td>\n",
       "      <td>Betts, Mookie</td>\n",
       "      <td>605141</td>\n",
       "      <td>623352</td>\n",
       "      <td>out</td>\n",
       "      <td>swinging_strike</td>\n",
       "      <td>...</td>\n",
       "      <td>5</td>\n",
       "      <td>3</td>\n",
       "      <td>5</td>\n",
       "      <td>3</td>\n",
       "      <td>5</td>\n",
       "      <td>Standard</td>\n",
       "      <td>Standard</td>\n",
       "      <td>264.0</td>\n",
       "      <td>0.037</td>\n",
       "      <td>-0.141</td>\n",
       "    </tr>\n",
       "    <tr>\n",
       "      <th>...</th>\n",
       "      <td>...</td>\n",
       "      <td>...</td>\n",
       "      <td>...</td>\n",
       "      <td>...</td>\n",
       "      <td>...</td>\n",
       "      <td>...</td>\n",
       "      <td>...</td>\n",
       "      <td>...</td>\n",
       "      <td>...</td>\n",
       "      <td>...</td>\n",
       "      <td>...</td>\n",
       "      <td>...</td>\n",
       "      <td>...</td>\n",
       "      <td>...</td>\n",
       "      <td>...</td>\n",
       "      <td>...</td>\n",
       "      <td>...</td>\n",
       "      <td>...</td>\n",
       "      <td>...</td>\n",
       "      <td>...</td>\n",
       "      <td>...</td>\n",
       "    </tr>\n",
       "    <tr>\n",
       "      <th>2479</th>\n",
       "      <td>CH</td>\n",
       "      <td>2022-04-08</td>\n",
       "      <td>87.1</td>\n",
       "      <td>1.70</td>\n",
       "      <td>5.56</td>\n",
       "      <td>Betts, Mookie</td>\n",
       "      <td>605141</td>\n",
       "      <td>607536</td>\n",
       "      <td>double</td>\n",
       "      <td>hit_into_play</td>\n",
       "      <td>...</td>\n",
       "      <td>2</td>\n",
       "      <td>3</td>\n",
       "      <td>2</td>\n",
       "      <td>3</td>\n",
       "      <td>2</td>\n",
       "      <td>Standard</td>\n",
       "      <td>Standard</td>\n",
       "      <td>138.0</td>\n",
       "      <td>-0.145</td>\n",
       "      <td>0.706</td>\n",
       "    </tr>\n",
       "    <tr>\n",
       "      <th>2482</th>\n",
       "      <td>SI</td>\n",
       "      <td>2022-04-08</td>\n",
       "      <td>91.8</td>\n",
       "      <td>1.70</td>\n",
       "      <td>5.49</td>\n",
       "      <td>Betts, Mookie</td>\n",
       "      <td>605141</td>\n",
       "      <td>607536</td>\n",
       "      <td>out</td>\n",
       "      <td>foul_tip</td>\n",
       "      <td>...</td>\n",
       "      <td>2</td>\n",
       "      <td>0</td>\n",
       "      <td>2</td>\n",
       "      <td>0</td>\n",
       "      <td>2</td>\n",
       "      <td>Standard</td>\n",
       "      <td>Standard</td>\n",
       "      <td>142.0</td>\n",
       "      <td>0.038</td>\n",
       "      <td>-0.251</td>\n",
       "    </tr>\n",
       "    <tr>\n",
       "      <th>2486</th>\n",
       "      <td>ST</td>\n",
       "      <td>2022-04-08</td>\n",
       "      <td>80.7</td>\n",
       "      <td>-3.44</td>\n",
       "      <td>4.92</td>\n",
       "      <td>Betts, Mookie</td>\n",
       "      <td>605141</td>\n",
       "      <td>664875</td>\n",
       "      <td>out</td>\n",
       "      <td>hit_into_play</td>\n",
       "      <td>...</td>\n",
       "      <td>2</td>\n",
       "      <td>5</td>\n",
       "      <td>2</td>\n",
       "      <td>5</td>\n",
       "      <td>2</td>\n",
       "      <td>None</td>\n",
       "      <td>None</td>\n",
       "      <td>86.0</td>\n",
       "      <td>0.004</td>\n",
       "      <td>-0.132</td>\n",
       "    </tr>\n",
       "    <tr>\n",
       "      <th>2487</th>\n",
       "      <td>KC</td>\n",
       "      <td>2022-04-08</td>\n",
       "      <td>82.6</td>\n",
       "      <td>1.86</td>\n",
       "      <td>5.44</td>\n",
       "      <td>Betts, Mookie</td>\n",
       "      <td>605141</td>\n",
       "      <td>607536</td>\n",
       "      <td>out</td>\n",
       "      <td>swinging_strike</td>\n",
       "      <td>...</td>\n",
       "      <td>0</td>\n",
       "      <td>0</td>\n",
       "      <td>0</td>\n",
       "      <td>0</td>\n",
       "      <td>0</td>\n",
       "      <td>Infield shift</td>\n",
       "      <td>Standard</td>\n",
       "      <td>321.0</td>\n",
       "      <td>-0.036</td>\n",
       "      <td>0.459</td>\n",
       "    </tr>\n",
       "    <tr>\n",
       "      <th>2490</th>\n",
       "      <td>FF</td>\n",
       "      <td>2022-04-08</td>\n",
       "      <td>92.8</td>\n",
       "      <td>-2.17</td>\n",
       "      <td>6.49</td>\n",
       "      <td>Betts, Mookie</td>\n",
       "      <td>605141</td>\n",
       "      <td>623485</td>\n",
       "      <td>out</td>\n",
       "      <td>hit_into_play</td>\n",
       "      <td>...</td>\n",
       "      <td>2</td>\n",
       "      <td>5</td>\n",
       "      <td>2</td>\n",
       "      <td>5</td>\n",
       "      <td>2</td>\n",
       "      <td>Standard</td>\n",
       "      <td>Standard</td>\n",
       "      <td>NaN</td>\n",
       "      <td>0.036</td>\n",
       "      <td>-1.110</td>\n",
       "    </tr>\n",
       "  </tbody>\n",
       "</table>\n",
       "<p>651 rows × 92 columns</p>\n",
       "</div>"
      ],
      "text/plain": [
       "     pitch_type   game_date  release_speed  release_pos_x  release_pos_z  \\\n",
       "0            FF  2022-10-15           92.0          -1.29           6.39   \n",
       "1            FF  2022-10-15           94.2          -1.26           6.38   \n",
       "7            SL  2022-10-15           81.9          -2.12           5.33   \n",
       "9            FF  2022-10-15           95.2          -1.28           6.35   \n",
       "13           SL  2022-10-15           85.8           3.30           5.24   \n",
       "...         ...         ...            ...            ...            ...   \n",
       "2479         CH  2022-04-08           87.1           1.70           5.56   \n",
       "2482         SI  2022-04-08           91.8           1.70           5.49   \n",
       "2486         ST  2022-04-08           80.7          -3.44           4.92   \n",
       "2487         KC  2022-04-08           82.6           1.86           5.44   \n",
       "2490         FF  2022-04-08           92.8          -2.17           6.49   \n",
       "\n",
       "        player_name  batter  pitcher  events      description  ...  fld_score  \\\n",
       "0     Betts, Mookie  605141   605397     out    hit_into_play  ...          0   \n",
       "1     Betts, Mookie  605141   605397    walk             ball  ...          0   \n",
       "7     Betts, Mookie  605141   621051    walk             ball  ...          0   \n",
       "9     Betts, Mookie  605141   605397     out    called_strike  ...          0   \n",
       "13    Betts, Mookie  605141   623352     out  swinging_strike  ...          5   \n",
       "...             ...     ...      ...     ...              ...  ...        ...   \n",
       "2479  Betts, Mookie  605141   607536  double    hit_into_play  ...          2   \n",
       "2482  Betts, Mookie  605141   607536     out         foul_tip  ...          2   \n",
       "2486  Betts, Mookie  605141   664875     out    hit_into_play  ...          2   \n",
       "2487  Betts, Mookie  605141   607536     out  swinging_strike  ...          0   \n",
       "2490  Betts, Mookie  605141   623485     out    hit_into_play  ...          2   \n",
       "\n",
       "      post_away_score  post_home_score  post_bat_score  post_fld_score  \\\n",
       "0                   2                0               2               0   \n",
       "1                   0                0               0               0   \n",
       "7                   2                0               2               0   \n",
       "9                   0                0               0               0   \n",
       "13                  3                5               3               5   \n",
       "...               ...              ...             ...             ...   \n",
       "2479                3                2               3               2   \n",
       "2482                0                2               0               2   \n",
       "2486                5                2               5               2   \n",
       "2487                0                0               0               0   \n",
       "2490                5                2               5               2   \n",
       "\n",
       "     if_fielding_alignment of_fielding_alignment spin_axis delta_home_win_exp  \\\n",
       "0            Infield shift              Standard     205.0              0.017   \n",
       "1            Infield shift              Standard     209.0             -0.028   \n",
       "7            Infield shift              Standard      76.0             -0.023   \n",
       "9            Infield shift              Standard     213.0              0.022   \n",
       "13                Standard              Standard     264.0              0.037   \n",
       "...                    ...                   ...       ...                ...   \n",
       "2479              Standard              Standard     138.0             -0.145   \n",
       "2482              Standard              Standard     142.0              0.038   \n",
       "2486                  None                  None      86.0              0.004   \n",
       "2487         Infield shift              Standard     321.0             -0.036   \n",
       "2490              Standard              Standard       NaN              0.036   \n",
       "\n",
       "     delta_run_exp  \n",
       "0           -0.221  \n",
       "1            0.212  \n",
       "7            0.321  \n",
       "9           -0.195  \n",
       "13          -0.141  \n",
       "...            ...  \n",
       "2479         0.706  \n",
       "2482        -0.251  \n",
       "2486        -0.132  \n",
       "2487         0.459  \n",
       "2490        -1.110  \n",
       "\n",
       "[651 rows x 92 columns]"
      ]
     },
     "execution_count": 76,
     "metadata": {},
     "output_type": "execute_result"
    }
   ],
   "source": [
    "first_name = 'Mookie'\n",
    "last_name = 'Betts'\n",
    "\n",
    "player = playerid_lookup(last_name, first_name)\n",
    "if(len(player) > 1):\n",
    "    player = player.iloc[len(player)-1]\n",
    "\n",
    "data_2022_player = statcast_batter(start_dt='2022-04-06', end_dt='2022-12-31', player_id = int(player['key_mlbam']))\n",
    "\n",
    "outs = ['field_out', 'force_out', 'grounded_into_double_play', 'fielders_choice_out', \n",
    "        'sac_bunt_double_play', 'fielders_choice', 'double_play', 'triple_play', \n",
    "        'sac_fly_double_play', 'strikeout_double_play', 'strikeout', 'other_out']\n",
    "\n",
    "data_2022_player.loc[data_2022_player['events'].isin(outs), 'events'] = 'out'\n",
    "care_about = ['hit_by_pitch', 'out', 'walk', 'home_run', 'double', 'sac_fly', 'triple', 'single']\n",
    "data_2022_player = data_2022_player.loc[data_2022_player['events'].isin(care_about)]\n",
    "\n",
    "data_2022_player"
   ]
  },
  {
   "cell_type": "code",
   "execution_count": 77,
   "metadata": {},
   "outputs": [
    {
     "name": "stdout",
     "output_type": "stream",
     "text": [
      "Mookie Betts: 120\n"
     ]
    }
   ],
   "source": [
    "player_ops = make_ops_pp(data_2022_player, ave_ops)\n",
    "print('{} {}: {}'.format(first_name, last_name, player_ops))"
   ]
  },
  {
   "cell_type": "markdown",
   "metadata": {},
   "source": [
    "## Data for all players"
   ]
  },
  {
   "cell_type": "code",
   "execution_count": 87,
   "metadata": {},
   "outputs": [
    {
     "name": "stdout",
     "output_type": "stream",
     "text": [
      " #################### [100.00%]"
     ]
    },
    {
     "data": {
      "text/html": [
       "<div>\n",
       "<style scoped>\n",
       "    .dataframe tbody tr th:only-of-type {\n",
       "        vertical-align: middle;\n",
       "    }\n",
       "\n",
       "    .dataframe tbody tr th {\n",
       "        vertical-align: top;\n",
       "    }\n",
       "\n",
       "    .dataframe thead th {\n",
       "        text-align: right;\n",
       "    }\n",
       "</style>\n",
       "<table border=\"1\" class=\"dataframe\">\n",
       "  <thead>\n",
       "    <tr style=\"text-align: right;\">\n",
       "      <th></th>\n",
       "      <th>batter</th>\n",
       "      <th>ops_pp</th>\n",
       "      <th>ABs</th>\n",
       "    </tr>\n",
       "  </thead>\n",
       "  <tbody>\n",
       "    <tr>\n",
       "      <th>0</th>\n",
       "      <td>592206</td>\n",
       "      <td>99</td>\n",
       "      <td>625</td>\n",
       "    </tr>\n",
       "    <tr>\n",
       "      <th>1</th>\n",
       "      <td>547180</td>\n",
       "      <td>129</td>\n",
       "      <td>485</td>\n",
       "    </tr>\n",
       "    <tr>\n",
       "      <th>2</th>\n",
       "      <td>592663</td>\n",
       "      <td>112</td>\n",
       "      <td>631</td>\n",
       "    </tr>\n",
       "    <tr>\n",
       "      <th>3</th>\n",
       "      <td>656555</td>\n",
       "      <td>107</td>\n",
       "      <td>744</td>\n",
       "    </tr>\n",
       "    <tr>\n",
       "      <th>4</th>\n",
       "      <td>663656</td>\n",
       "      <td>113</td>\n",
       "      <td>660</td>\n",
       "    </tr>\n",
       "    <tr>\n",
       "      <th>...</th>\n",
       "      <td>...</td>\n",
       "      <td>...</td>\n",
       "      <td>...</td>\n",
       "    </tr>\n",
       "    <tr>\n",
       "      <th>700</th>\n",
       "      <td>683610</td>\n",
       "      <td>163</td>\n",
       "      <td>2</td>\n",
       "    </tr>\n",
       "    <tr>\n",
       "      <th>701</th>\n",
       "      <td>680858</td>\n",
       "      <td>0</td>\n",
       "      <td>1</td>\n",
       "    </tr>\n",
       "    <tr>\n",
       "      <th>702</th>\n",
       "      <td>680579</td>\n",
       "      <td>0</td>\n",
       "      <td>1</td>\n",
       "    </tr>\n",
       "    <tr>\n",
       "      <th>703</th>\n",
       "      <td>691910</td>\n",
       "      <td>0</td>\n",
       "      <td>1</td>\n",
       "    </tr>\n",
       "    <tr>\n",
       "      <th>704</th>\n",
       "      <td>678521</td>\n",
       "      <td>0</td>\n",
       "      <td>2</td>\n",
       "    </tr>\n",
       "  </tbody>\n",
       "</table>\n",
       "<p>705 rows × 3 columns</p>\n",
       "</div>"
      ],
      "text/plain": [
       "     batter  ops_pp  ABs\n",
       "0    592206      99  625\n",
       "1    547180     129  485\n",
       "2    592663     112  631\n",
       "3    656555     107  744\n",
       "4    663656     113  660\n",
       "..      ...     ...  ...\n",
       "700  683610     163    2\n",
       "701  680858       0    1\n",
       "702  680579       0    1\n",
       "703  691910       0    1\n",
       "704  678521       0    2\n",
       "\n",
       "[705 rows x 3 columns]"
      ]
     },
     "execution_count": 87,
     "metadata": {},
     "output_type": "execute_result"
    }
   ],
   "source": [
    "def progbar(curr, total, full_progbar):\n",
    "    frac = curr/total\n",
    "    filled_progbar = round(frac*full_progbar)\n",
    "    print('\\r', '#'*filled_progbar + '-'*(full_progbar-filled_progbar), '[{:>7.2%}]'.format(frac), end='')\n",
    "\n",
    "table = []\n",
    "batters = data_2022['batter'].unique()\n",
    "for i, batter in enumerate(batters):\n",
    "    df_batter = data_2022.loc[data_2022['batter'] == batter]\n",
    "    player_ops = make_ops_pp(df_batter, ave_ops)\n",
    "    table.append([batter, player_ops, len(df_batter)])\n",
    "    progbar(i+1, len(batters),20)\n",
    "\n",
    "ops_pp_df = pd.DataFrame(table, columns=['batter', 'ops_pp', 'ABs'])\n",
    "ops_pp_df"
   ]
  },
  {
   "cell_type": "code",
   "execution_count": 96,
   "metadata": {},
   "outputs": [
    {
     "data": {
      "application/vnd.plotly.v1+json": {
       "config": {
        "plotlyServerURL": "https://plot.ly"
       },
       "data": [
        {
         "alignmentgroup": "True",
         "bingroup": "x",
         "hovertemplate": "ops_pp=%{x}<br>count=%{y}<extra></extra>",
         "legendgroup": "",
         "marker": {
          "color": "#636efa",
          "pattern": {
           "shape": ""
          }
         },
         "name": "",
         "offsetgroup": "",
         "orientation": "v",
         "showlegend": false,
         "type": "histogram",
         "x": [
          99,
          129,
          112,
          107,
          113,
          111,
          133,
          110,
          97,
          90,
          112,
          123,
          87,
          103,
          98,
          103,
          96,
          100,
          95,
          90,
          124,
          99,
          98,
          108,
          142,
          105,
          95,
          141,
          98,
          93,
          108,
          105,
          110,
          93,
          91,
          88,
          98,
          111,
          99,
          99,
          130,
          106,
          102,
          107,
          109,
          95,
          79,
          88,
          115,
          90,
          108,
          117,
          121,
          107,
          108,
          90,
          68,
          82,
          86,
          118,
          129,
          95,
          76,
          90,
          95,
          110,
          112,
          98,
          114,
          114,
          125,
          117,
          120,
          102,
          92,
          109,
          106,
          90,
          109,
          92,
          118,
          112,
          110,
          105,
          83,
          104,
          119,
          123,
          120,
          84,
          94,
          85,
          98,
          110,
          88,
          66,
          118,
          111,
          89,
          108,
          102,
          103,
          120,
          122,
          113,
          89,
          99,
          103,
          78,
          71,
          109,
          112,
          106,
          109,
          97,
          101,
          104,
          106,
          100,
          118,
          103,
          121,
          109,
          116,
          119,
          79,
          101,
          113,
          95,
          106,
          83,
          105,
          113,
          103,
          126,
          135,
          124,
          104,
          87,
          104,
          98,
          74,
          96,
          98,
          88,
          91,
          89,
          104,
          107,
          107,
          103,
          61,
          192,
          106,
          103,
          94,
          108,
          101,
          96,
          103,
          91,
          74,
          102,
          83,
          90,
          85,
          85,
          86,
          106,
          111,
          122,
          104,
          89,
          102,
          96,
          77,
          75,
          72,
          86,
          107,
          99,
          86,
          89,
          87,
          64,
          58,
          105,
          105,
          97,
          86,
          93,
          91,
          51,
          83,
          103,
          108,
          110,
          99,
          95,
          110,
          85,
          110,
          97,
          107,
          112,
          104,
          94,
          51,
          97,
          118,
          108,
          113,
          83,
          90,
          98,
          98,
          96,
          105,
          100,
          84,
          96,
          79,
          77,
          82,
          68,
          76,
          103,
          90,
          104,
          47,
          78,
          77,
          99,
          137,
          105,
          101,
          31,
          99,
          93,
          87,
          114,
          105,
          109,
          108,
          120,
          138,
          107,
          89,
          94,
          93,
          83,
          98,
          125,
          65,
          79,
          145,
          98,
          102,
          78,
          84,
          92,
          98,
          93,
          82,
          106,
          87,
          82,
          103,
          64,
          101,
          121,
          78,
          93,
          99,
          95,
          59,
          106,
          90,
          103,
          94,
          110,
          89,
          96,
          91,
          93,
          83,
          104,
          84,
          84,
          80,
          66,
          72,
          97,
          87,
          84,
          94,
          110,
          85,
          98,
          74,
          101,
          99,
          96,
          100,
          74,
          101,
          101,
          111,
          117,
          107,
          92,
          125,
          90,
          106,
          85,
          85,
          60,
          89,
          96,
          93,
          109,
          97,
          101,
          109,
          111,
          93,
          51,
          94,
          61,
          97,
          115,
          64,
          82,
          96,
          99,
          106,
          78,
          93,
          73,
          94,
          92,
          107,
          86,
          106,
          117,
          96,
          75,
          85,
          90,
          117,
          100,
          109,
          100,
          106,
          108,
          99,
          110,
          92,
          105,
          105,
          91,
          110,
          60,
          95,
          87,
          80,
          101,
          89,
          105,
          70,
          37,
          93,
          112,
          95,
          78,
          103,
          40,
          120,
          97,
          105,
          97,
          91,
          81,
          85,
          109,
          79,
          100,
          23,
          76,
          99,
          120,
          114,
          117,
          110,
          83,
          92,
          86,
          97,
          82,
          113,
          106,
          86,
          125,
          103,
          62,
          92,
          79,
          85,
          95,
          98,
          0,
          94,
          87,
          98,
          101,
          102,
          77,
          84,
          107,
          67,
          90,
          97,
          78,
          66,
          108,
          93,
          106,
          76,
          69,
          111,
          84,
          113,
          84,
          99,
          23,
          90,
          97,
          82,
          86,
          67,
          99,
          82,
          103,
          112,
          87,
          105,
          77,
          100,
          89,
          89,
          50,
          100,
          84,
          74,
          96,
          99,
          95,
          0,
          66,
          67,
          85,
          82,
          100,
          74,
          111,
          96,
          83,
          42,
          101,
          0,
          98,
          68,
          96,
          98,
          84,
          88,
          106,
          89,
          80,
          91,
          93,
          101,
          130,
          73,
          92,
          98,
          89,
          0,
          0,
          85,
          0,
          42,
          89,
          96,
          108,
          92,
          95,
          67,
          0,
          85,
          53,
          48,
          91,
          67,
          65,
          85,
          78,
          70,
          51,
          49,
          84,
          107,
          86,
          18,
          92,
          70,
          86,
          73,
          90,
          100,
          49,
          87,
          46,
          26,
          75,
          92,
          54,
          85,
          85,
          119,
          56,
          42,
          72,
          90,
          89,
          94,
          99,
          83,
          105,
          44,
          56,
          63,
          107,
          73,
          89,
          71,
          67,
          67,
          86,
          0,
          78,
          316,
          103,
          52,
          81,
          65,
          92,
          75,
          92,
          107,
          42,
          0,
          171,
          68,
          77,
          80,
          86,
          0,
          93,
          61,
          0,
          38,
          111,
          69,
          0,
          65,
          98,
          97,
          90,
          90,
          43,
          63,
          82,
          88,
          57,
          55,
          81,
          96,
          0,
          98,
          97,
          0,
          0,
          78,
          49,
          114,
          79,
          65,
          98,
          61,
          98,
          96,
          91,
          41,
          81,
          73,
          56,
          85,
          108,
          74,
          39,
          78,
          45,
          52,
          68,
          119,
          71,
          109,
          55,
          78,
          99,
          68,
          114,
          0,
          86,
          95,
          87,
          98,
          0,
          74,
          72,
          69,
          94,
          98,
          83,
          376,
          80,
          83,
          35,
          63,
          74,
          82,
          84,
          103,
          78,
          114,
          52,
          45,
          136,
          86,
          0,
          88,
          157,
          63,
          53,
          158,
          34,
          55,
          58,
          51,
          54,
          110,
          49,
          0,
          65,
          0,
          61,
          46,
          95,
          118,
          0,
          58,
          30,
          53,
          105,
          24,
          0,
          66,
          0,
          37,
          58,
          14,
          49,
          71,
          37,
          46,
          80,
          43,
          0,
          0,
          54,
          0,
          0,
          0,
          0,
          163,
          41,
          0,
          163,
          0,
          163,
          0,
          0,
          0,
          0
         ],
         "xaxis": "x",
         "yaxis": "y"
        }
       ],
       "layout": {
        "barmode": "relative",
        "legend": {
         "tracegroupgap": 0
        },
        "template": {
         "data": {
          "bar": [
           {
            "error_x": {
             "color": "#2a3f5f"
            },
            "error_y": {
             "color": "#2a3f5f"
            },
            "marker": {
             "line": {
              "color": "#E5ECF6",
              "width": 0.5
             },
             "pattern": {
              "fillmode": "overlay",
              "size": 10,
              "solidity": 0.2
             }
            },
            "type": "bar"
           }
          ],
          "barpolar": [
           {
            "marker": {
             "line": {
              "color": "#E5ECF6",
              "width": 0.5
             },
             "pattern": {
              "fillmode": "overlay",
              "size": 10,
              "solidity": 0.2
             }
            },
            "type": "barpolar"
           }
          ],
          "carpet": [
           {
            "aaxis": {
             "endlinecolor": "#2a3f5f",
             "gridcolor": "white",
             "linecolor": "white",
             "minorgridcolor": "white",
             "startlinecolor": "#2a3f5f"
            },
            "baxis": {
             "endlinecolor": "#2a3f5f",
             "gridcolor": "white",
             "linecolor": "white",
             "minorgridcolor": "white",
             "startlinecolor": "#2a3f5f"
            },
            "type": "carpet"
           }
          ],
          "choropleth": [
           {
            "colorbar": {
             "outlinewidth": 0,
             "ticks": ""
            },
            "type": "choropleth"
           }
          ],
          "contour": [
           {
            "colorbar": {
             "outlinewidth": 0,
             "ticks": ""
            },
            "colorscale": [
             [
              0,
              "#0d0887"
             ],
             [
              0.1111111111111111,
              "#46039f"
             ],
             [
              0.2222222222222222,
              "#7201a8"
             ],
             [
              0.3333333333333333,
              "#9c179e"
             ],
             [
              0.4444444444444444,
              "#bd3786"
             ],
             [
              0.5555555555555556,
              "#d8576b"
             ],
             [
              0.6666666666666666,
              "#ed7953"
             ],
             [
              0.7777777777777778,
              "#fb9f3a"
             ],
             [
              0.8888888888888888,
              "#fdca26"
             ],
             [
              1,
              "#f0f921"
             ]
            ],
            "type": "contour"
           }
          ],
          "contourcarpet": [
           {
            "colorbar": {
             "outlinewidth": 0,
             "ticks": ""
            },
            "type": "contourcarpet"
           }
          ],
          "heatmap": [
           {
            "colorbar": {
             "outlinewidth": 0,
             "ticks": ""
            },
            "colorscale": [
             [
              0,
              "#0d0887"
             ],
             [
              0.1111111111111111,
              "#46039f"
             ],
             [
              0.2222222222222222,
              "#7201a8"
             ],
             [
              0.3333333333333333,
              "#9c179e"
             ],
             [
              0.4444444444444444,
              "#bd3786"
             ],
             [
              0.5555555555555556,
              "#d8576b"
             ],
             [
              0.6666666666666666,
              "#ed7953"
             ],
             [
              0.7777777777777778,
              "#fb9f3a"
             ],
             [
              0.8888888888888888,
              "#fdca26"
             ],
             [
              1,
              "#f0f921"
             ]
            ],
            "type": "heatmap"
           }
          ],
          "heatmapgl": [
           {
            "colorbar": {
             "outlinewidth": 0,
             "ticks": ""
            },
            "colorscale": [
             [
              0,
              "#0d0887"
             ],
             [
              0.1111111111111111,
              "#46039f"
             ],
             [
              0.2222222222222222,
              "#7201a8"
             ],
             [
              0.3333333333333333,
              "#9c179e"
             ],
             [
              0.4444444444444444,
              "#bd3786"
             ],
             [
              0.5555555555555556,
              "#d8576b"
             ],
             [
              0.6666666666666666,
              "#ed7953"
             ],
             [
              0.7777777777777778,
              "#fb9f3a"
             ],
             [
              0.8888888888888888,
              "#fdca26"
             ],
             [
              1,
              "#f0f921"
             ]
            ],
            "type": "heatmapgl"
           }
          ],
          "histogram": [
           {
            "marker": {
             "pattern": {
              "fillmode": "overlay",
              "size": 10,
              "solidity": 0.2
             }
            },
            "type": "histogram"
           }
          ],
          "histogram2d": [
           {
            "colorbar": {
             "outlinewidth": 0,
             "ticks": ""
            },
            "colorscale": [
             [
              0,
              "#0d0887"
             ],
             [
              0.1111111111111111,
              "#46039f"
             ],
             [
              0.2222222222222222,
              "#7201a8"
             ],
             [
              0.3333333333333333,
              "#9c179e"
             ],
             [
              0.4444444444444444,
              "#bd3786"
             ],
             [
              0.5555555555555556,
              "#d8576b"
             ],
             [
              0.6666666666666666,
              "#ed7953"
             ],
             [
              0.7777777777777778,
              "#fb9f3a"
             ],
             [
              0.8888888888888888,
              "#fdca26"
             ],
             [
              1,
              "#f0f921"
             ]
            ],
            "type": "histogram2d"
           }
          ],
          "histogram2dcontour": [
           {
            "colorbar": {
             "outlinewidth": 0,
             "ticks": ""
            },
            "colorscale": [
             [
              0,
              "#0d0887"
             ],
             [
              0.1111111111111111,
              "#46039f"
             ],
             [
              0.2222222222222222,
              "#7201a8"
             ],
             [
              0.3333333333333333,
              "#9c179e"
             ],
             [
              0.4444444444444444,
              "#bd3786"
             ],
             [
              0.5555555555555556,
              "#d8576b"
             ],
             [
              0.6666666666666666,
              "#ed7953"
             ],
             [
              0.7777777777777778,
              "#fb9f3a"
             ],
             [
              0.8888888888888888,
              "#fdca26"
             ],
             [
              1,
              "#f0f921"
             ]
            ],
            "type": "histogram2dcontour"
           }
          ],
          "mesh3d": [
           {
            "colorbar": {
             "outlinewidth": 0,
             "ticks": ""
            },
            "type": "mesh3d"
           }
          ],
          "parcoords": [
           {
            "line": {
             "colorbar": {
              "outlinewidth": 0,
              "ticks": ""
             }
            },
            "type": "parcoords"
           }
          ],
          "pie": [
           {
            "automargin": true,
            "type": "pie"
           }
          ],
          "scatter": [
           {
            "fillpattern": {
             "fillmode": "overlay",
             "size": 10,
             "solidity": 0.2
            },
            "type": "scatter"
           }
          ],
          "scatter3d": [
           {
            "line": {
             "colorbar": {
              "outlinewidth": 0,
              "ticks": ""
             }
            },
            "marker": {
             "colorbar": {
              "outlinewidth": 0,
              "ticks": ""
             }
            },
            "type": "scatter3d"
           }
          ],
          "scattercarpet": [
           {
            "marker": {
             "colorbar": {
              "outlinewidth": 0,
              "ticks": ""
             }
            },
            "type": "scattercarpet"
           }
          ],
          "scattergeo": [
           {
            "marker": {
             "colorbar": {
              "outlinewidth": 0,
              "ticks": ""
             }
            },
            "type": "scattergeo"
           }
          ],
          "scattergl": [
           {
            "marker": {
             "colorbar": {
              "outlinewidth": 0,
              "ticks": ""
             }
            },
            "type": "scattergl"
           }
          ],
          "scattermapbox": [
           {
            "marker": {
             "colorbar": {
              "outlinewidth": 0,
              "ticks": ""
             }
            },
            "type": "scattermapbox"
           }
          ],
          "scatterpolar": [
           {
            "marker": {
             "colorbar": {
              "outlinewidth": 0,
              "ticks": ""
             }
            },
            "type": "scatterpolar"
           }
          ],
          "scatterpolargl": [
           {
            "marker": {
             "colorbar": {
              "outlinewidth": 0,
              "ticks": ""
             }
            },
            "type": "scatterpolargl"
           }
          ],
          "scatterternary": [
           {
            "marker": {
             "colorbar": {
              "outlinewidth": 0,
              "ticks": ""
             }
            },
            "type": "scatterternary"
           }
          ],
          "surface": [
           {
            "colorbar": {
             "outlinewidth": 0,
             "ticks": ""
            },
            "colorscale": [
             [
              0,
              "#0d0887"
             ],
             [
              0.1111111111111111,
              "#46039f"
             ],
             [
              0.2222222222222222,
              "#7201a8"
             ],
             [
              0.3333333333333333,
              "#9c179e"
             ],
             [
              0.4444444444444444,
              "#bd3786"
             ],
             [
              0.5555555555555556,
              "#d8576b"
             ],
             [
              0.6666666666666666,
              "#ed7953"
             ],
             [
              0.7777777777777778,
              "#fb9f3a"
             ],
             [
              0.8888888888888888,
              "#fdca26"
             ],
             [
              1,
              "#f0f921"
             ]
            ],
            "type": "surface"
           }
          ],
          "table": [
           {
            "cells": {
             "fill": {
              "color": "#EBF0F8"
             },
             "line": {
              "color": "white"
             }
            },
            "header": {
             "fill": {
              "color": "#C8D4E3"
             },
             "line": {
              "color": "white"
             }
            },
            "type": "table"
           }
          ]
         },
         "layout": {
          "annotationdefaults": {
           "arrowcolor": "#2a3f5f",
           "arrowhead": 0,
           "arrowwidth": 1
          },
          "autotypenumbers": "strict",
          "coloraxis": {
           "colorbar": {
            "outlinewidth": 0,
            "ticks": ""
           }
          },
          "colorscale": {
           "diverging": [
            [
             0,
             "#8e0152"
            ],
            [
             0.1,
             "#c51b7d"
            ],
            [
             0.2,
             "#de77ae"
            ],
            [
             0.3,
             "#f1b6da"
            ],
            [
             0.4,
             "#fde0ef"
            ],
            [
             0.5,
             "#f7f7f7"
            ],
            [
             0.6,
             "#e6f5d0"
            ],
            [
             0.7,
             "#b8e186"
            ],
            [
             0.8,
             "#7fbc41"
            ],
            [
             0.9,
             "#4d9221"
            ],
            [
             1,
             "#276419"
            ]
           ],
           "sequential": [
            [
             0,
             "#0d0887"
            ],
            [
             0.1111111111111111,
             "#46039f"
            ],
            [
             0.2222222222222222,
             "#7201a8"
            ],
            [
             0.3333333333333333,
             "#9c179e"
            ],
            [
             0.4444444444444444,
             "#bd3786"
            ],
            [
             0.5555555555555556,
             "#d8576b"
            ],
            [
             0.6666666666666666,
             "#ed7953"
            ],
            [
             0.7777777777777778,
             "#fb9f3a"
            ],
            [
             0.8888888888888888,
             "#fdca26"
            ],
            [
             1,
             "#f0f921"
            ]
           ],
           "sequentialminus": [
            [
             0,
             "#0d0887"
            ],
            [
             0.1111111111111111,
             "#46039f"
            ],
            [
             0.2222222222222222,
             "#7201a8"
            ],
            [
             0.3333333333333333,
             "#9c179e"
            ],
            [
             0.4444444444444444,
             "#bd3786"
            ],
            [
             0.5555555555555556,
             "#d8576b"
            ],
            [
             0.6666666666666666,
             "#ed7953"
            ],
            [
             0.7777777777777778,
             "#fb9f3a"
            ],
            [
             0.8888888888888888,
             "#fdca26"
            ],
            [
             1,
             "#f0f921"
            ]
           ]
          },
          "colorway": [
           "#636efa",
           "#EF553B",
           "#00cc96",
           "#ab63fa",
           "#FFA15A",
           "#19d3f3",
           "#FF6692",
           "#B6E880",
           "#FF97FF",
           "#FECB52"
          ],
          "font": {
           "color": "#2a3f5f"
          },
          "geo": {
           "bgcolor": "white",
           "lakecolor": "white",
           "landcolor": "#E5ECF6",
           "showlakes": true,
           "showland": true,
           "subunitcolor": "white"
          },
          "hoverlabel": {
           "align": "left"
          },
          "hovermode": "closest",
          "mapbox": {
           "style": "light"
          },
          "paper_bgcolor": "white",
          "plot_bgcolor": "#E5ECF6",
          "polar": {
           "angularaxis": {
            "gridcolor": "white",
            "linecolor": "white",
            "ticks": ""
           },
           "bgcolor": "#E5ECF6",
           "radialaxis": {
            "gridcolor": "white",
            "linecolor": "white",
            "ticks": ""
           }
          },
          "scene": {
           "xaxis": {
            "backgroundcolor": "#E5ECF6",
            "gridcolor": "white",
            "gridwidth": 2,
            "linecolor": "white",
            "showbackground": true,
            "ticks": "",
            "zerolinecolor": "white"
           },
           "yaxis": {
            "backgroundcolor": "#E5ECF6",
            "gridcolor": "white",
            "gridwidth": 2,
            "linecolor": "white",
            "showbackground": true,
            "ticks": "",
            "zerolinecolor": "white"
           },
           "zaxis": {
            "backgroundcolor": "#E5ECF6",
            "gridcolor": "white",
            "gridwidth": 2,
            "linecolor": "white",
            "showbackground": true,
            "ticks": "",
            "zerolinecolor": "white"
           }
          },
          "shapedefaults": {
           "line": {
            "color": "#2a3f5f"
           }
          },
          "ternary": {
           "aaxis": {
            "gridcolor": "white",
            "linecolor": "white",
            "ticks": ""
           },
           "baxis": {
            "gridcolor": "white",
            "linecolor": "white",
            "ticks": ""
           },
           "bgcolor": "#E5ECF6",
           "caxis": {
            "gridcolor": "white",
            "linecolor": "white",
            "ticks": ""
           }
          },
          "title": {
           "x": 0.05
          },
          "xaxis": {
           "automargin": true,
           "gridcolor": "white",
           "linecolor": "white",
           "ticks": "",
           "title": {
            "standoff": 15
           },
           "zerolinecolor": "white",
           "zerolinewidth": 2
          },
          "yaxis": {
           "automargin": true,
           "gridcolor": "white",
           "linecolor": "white",
           "ticks": "",
           "title": {
            "standoff": 15
           },
           "zerolinecolor": "white",
           "zerolinewidth": 2
          }
         }
        },
        "title": {
         "text": "ops++ Histogram 2022"
        },
        "xaxis": {
         "anchor": "y",
         "domain": [
          0,
          1
         ],
         "title": {
          "text": "ops_pp"
         }
        },
        "yaxis": {
         "anchor": "x",
         "domain": [
          0,
          1
         ],
         "title": {
          "text": "count"
         }
        }
       }
      }
     },
     "metadata": {},
     "output_type": "display_data"
    }
   ],
   "source": [
    "df = px.data.tips()\n",
    "fig = px.histogram(ops_pp_df, x='ops_pp', title='ops++ Histogram 2022')\n",
    "fig.show()"
   ]
  },
  {
   "cell_type": "code",
   "execution_count": 91,
   "metadata": {},
   "outputs": [
    {
     "data": {
      "text/html": [
       "<div>\n",
       "<style scoped>\n",
       "    .dataframe tbody tr th:only-of-type {\n",
       "        vertical-align: middle;\n",
       "    }\n",
       "\n",
       "    .dataframe tbody tr th {\n",
       "        vertical-align: top;\n",
       "    }\n",
       "\n",
       "    .dataframe thead th {\n",
       "        text-align: right;\n",
       "    }\n",
       "</style>\n",
       "<table border=\"1\" class=\"dataframe\">\n",
       "  <thead>\n",
       "    <tr style=\"text-align: right;\">\n",
       "      <th></th>\n",
       "      <th>batter</th>\n",
       "      <th>ops_pp</th>\n",
       "      <th>ABs</th>\n",
       "    </tr>\n",
       "  </thead>\n",
       "  <tbody>\n",
       "    <tr>\n",
       "      <th>152</th>\n",
       "      <td>672640</td>\n",
       "      <td>192</td>\n",
       "      <td>10</td>\n",
       "    </tr>\n",
       "    <tr>\n",
       "      <th>551</th>\n",
       "      <td>644433</td>\n",
       "      <td>316</td>\n",
       "      <td>4</td>\n",
       "    </tr>\n",
       "    <tr>\n",
       "      <th>562</th>\n",
       "      <td>681546</td>\n",
       "      <td>171</td>\n",
       "      <td>16</td>\n",
       "    </tr>\n",
       "    <tr>\n",
       "      <th>635</th>\n",
       "      <td>666137</td>\n",
       "      <td>376</td>\n",
       "      <td>2</td>\n",
       "    </tr>\n",
       "    <tr>\n",
       "      <th>652</th>\n",
       "      <td>656388</td>\n",
       "      <td>157</td>\n",
       "      <td>11</td>\n",
       "    </tr>\n",
       "    <tr>\n",
       "      <th>655</th>\n",
       "      <td>542963</td>\n",
       "      <td>158</td>\n",
       "      <td>3</td>\n",
       "    </tr>\n",
       "    <tr>\n",
       "      <th>695</th>\n",
       "      <td>682927</td>\n",
       "      <td>163</td>\n",
       "      <td>2</td>\n",
       "    </tr>\n",
       "    <tr>\n",
       "      <th>698</th>\n",
       "      <td>678860</td>\n",
       "      <td>163</td>\n",
       "      <td>2</td>\n",
       "    </tr>\n",
       "    <tr>\n",
       "      <th>700</th>\n",
       "      <td>683610</td>\n",
       "      <td>163</td>\n",
       "      <td>2</td>\n",
       "    </tr>\n",
       "  </tbody>\n",
       "</table>\n",
       "</div>"
      ],
      "text/plain": [
       "     batter  ops_pp  ABs\n",
       "152  672640     192   10\n",
       "551  644433     316    4\n",
       "562  681546     171   16\n",
       "635  666137     376    2\n",
       "652  656388     157   11\n",
       "655  542963     158    3\n",
       "695  682927     163    2\n",
       "698  678860     163    2\n",
       "700  683610     163    2"
      ]
     },
     "execution_count": 91,
     "metadata": {},
     "output_type": "execute_result"
    }
   ],
   "source": [
    "ops_pp_df[ops_pp_df['ops_pp'] > 150]"
   ]
  },
  {
   "cell_type": "markdown",
   "metadata": {},
   "source": [
    "It seems that all of our super high ops++ are very small sample size!"
   ]
  },
  {
   "cell_type": "code",
   "execution_count": 92,
   "metadata": {},
   "outputs": [
    {
     "data": {
      "text/html": [
       "<div>\n",
       "<style scoped>\n",
       "    .dataframe tbody tr th:only-of-type {\n",
       "        vertical-align: middle;\n",
       "    }\n",
       "\n",
       "    .dataframe tbody tr th {\n",
       "        vertical-align: top;\n",
       "    }\n",
       "\n",
       "    .dataframe thead th {\n",
       "        text-align: right;\n",
       "    }\n",
       "</style>\n",
       "<table border=\"1\" class=\"dataframe\">\n",
       "  <thead>\n",
       "    <tr style=\"text-align: right;\">\n",
       "      <th></th>\n",
       "      <th>batter</th>\n",
       "      <th>ops_pp</th>\n",
       "      <th>ABs</th>\n",
       "    </tr>\n",
       "  </thead>\n",
       "  <tbody>\n",
       "    <tr>\n",
       "      <th>0</th>\n",
       "      <td>592206</td>\n",
       "      <td>99</td>\n",
       "      <td>625</td>\n",
       "    </tr>\n",
       "    <tr>\n",
       "      <th>1</th>\n",
       "      <td>547180</td>\n",
       "      <td>129</td>\n",
       "      <td>485</td>\n",
       "    </tr>\n",
       "    <tr>\n",
       "      <th>2</th>\n",
       "      <td>592663</td>\n",
       "      <td>112</td>\n",
       "      <td>631</td>\n",
       "    </tr>\n",
       "    <tr>\n",
       "      <th>3</th>\n",
       "      <td>656555</td>\n",
       "      <td>107</td>\n",
       "      <td>744</td>\n",
       "    </tr>\n",
       "    <tr>\n",
       "      <th>4</th>\n",
       "      <td>663656</td>\n",
       "      <td>113</td>\n",
       "      <td>660</td>\n",
       "    </tr>\n",
       "    <tr>\n",
       "      <th>...</th>\n",
       "      <td>...</td>\n",
       "      <td>...</td>\n",
       "      <td>...</td>\n",
       "    </tr>\n",
       "    <tr>\n",
       "      <th>661</th>\n",
       "      <td>605113</td>\n",
       "      <td>110</td>\n",
       "      <td>53</td>\n",
       "    </tr>\n",
       "    <tr>\n",
       "      <th>666</th>\n",
       "      <td>657061</td>\n",
       "      <td>61</td>\n",
       "      <td>63</td>\n",
       "    </tr>\n",
       "    <tr>\n",
       "      <th>667</th>\n",
       "      <td>641856</td>\n",
       "      <td>46</td>\n",
       "      <td>56</td>\n",
       "    </tr>\n",
       "    <tr>\n",
       "      <th>668</th>\n",
       "      <td>547379</td>\n",
       "      <td>95</td>\n",
       "      <td>69</td>\n",
       "    </tr>\n",
       "    <tr>\n",
       "      <th>682</th>\n",
       "      <td>609275</td>\n",
       "      <td>49</td>\n",
       "      <td>54</td>\n",
       "    </tr>\n",
       "  </tbody>\n",
       "</table>\n",
       "<p>547 rows × 3 columns</p>\n",
       "</div>"
      ],
      "text/plain": [
       "     batter  ops_pp  ABs\n",
       "0    592206      99  625\n",
       "1    547180     129  485\n",
       "2    592663     112  631\n",
       "3    656555     107  744\n",
       "4    663656     113  660\n",
       "..      ...     ...  ...\n",
       "661  605113     110   53\n",
       "666  657061      61   63\n",
       "667  641856      46   56\n",
       "668  547379      95   69\n",
       "682  609275      49   54\n",
       "\n",
       "[547 rows x 3 columns]"
      ]
     },
     "execution_count": 92,
     "metadata": {},
     "output_type": "execute_result"
    }
   ],
   "source": [
    "ops_pp_df_clean = ops_pp_df[ops_pp_df['ABs'] >= 50]\n",
    "ops_pp_df_clean"
   ]
  },
  {
   "cell_type": "code",
   "execution_count": 98,
   "metadata": {},
   "outputs": [
    {
     "data": {
      "application/vnd.plotly.v1+json": {
       "config": {
        "plotlyServerURL": "https://plot.ly"
       },
       "data": [
        {
         "alignmentgroup": "True",
         "bingroup": "x",
         "hovertemplate": "ops_pp=%{x}<br>count=%{y}<extra></extra>",
         "legendgroup": "",
         "marker": {
          "color": "#636efa",
          "pattern": {
           "shape": ""
          }
         },
         "name": "",
         "offsetgroup": "",
         "orientation": "v",
         "showlegend": false,
         "type": "histogram",
         "x": [
          99,
          129,
          112,
          107,
          113,
          111,
          133,
          110,
          97,
          90,
          112,
          123,
          87,
          103,
          98,
          103,
          96,
          100,
          95,
          90,
          99,
          98,
          108,
          142,
          105,
          95,
          141,
          98,
          93,
          108,
          105,
          110,
          93,
          91,
          88,
          98,
          111,
          99,
          99,
          130,
          106,
          102,
          107,
          109,
          95,
          79,
          88,
          115,
          90,
          108,
          117,
          121,
          107,
          108,
          90,
          68,
          82,
          86,
          118,
          129,
          95,
          76,
          90,
          95,
          110,
          112,
          98,
          114,
          114,
          125,
          117,
          120,
          102,
          92,
          109,
          106,
          90,
          109,
          92,
          118,
          112,
          110,
          105,
          83,
          104,
          119,
          123,
          120,
          94,
          85,
          98,
          110,
          88,
          66,
          118,
          111,
          89,
          108,
          102,
          103,
          120,
          122,
          113,
          89,
          99,
          103,
          78,
          71,
          109,
          112,
          106,
          109,
          97,
          101,
          104,
          106,
          100,
          118,
          103,
          121,
          109,
          116,
          119,
          79,
          101,
          113,
          95,
          106,
          83,
          105,
          113,
          103,
          126,
          135,
          124,
          104,
          87,
          104,
          98,
          74,
          98,
          88,
          91,
          89,
          104,
          107,
          107,
          103,
          61,
          106,
          103,
          94,
          108,
          96,
          103,
          91,
          74,
          102,
          83,
          90,
          85,
          85,
          86,
          106,
          111,
          122,
          104,
          89,
          102,
          96,
          77,
          75,
          72,
          86,
          107,
          99,
          86,
          89,
          87,
          64,
          58,
          105,
          105,
          97,
          93,
          91,
          83,
          103,
          108,
          110,
          99,
          95,
          110,
          85,
          110,
          97,
          107,
          112,
          104,
          94,
          97,
          118,
          108,
          83,
          90,
          98,
          98,
          96,
          105,
          100,
          84,
          96,
          79,
          77,
          103,
          90,
          104,
          78,
          99,
          137,
          105,
          101,
          99,
          93,
          87,
          114,
          105,
          109,
          108,
          120,
          138,
          107,
          94,
          93,
          83,
          98,
          125,
          65,
          79,
          145,
          98,
          102,
          78,
          84,
          92,
          98,
          93,
          82,
          106,
          87,
          82,
          103,
          101,
          78,
          93,
          99,
          95,
          106,
          90,
          103,
          94,
          110,
          89,
          96,
          91,
          93,
          104,
          84,
          84,
          80,
          66,
          97,
          87,
          84,
          94,
          110,
          85,
          98,
          74,
          101,
          99,
          96,
          100,
          74,
          101,
          101,
          111,
          117,
          107,
          92,
          125,
          90,
          106,
          85,
          89,
          96,
          93,
          109,
          97,
          101,
          109,
          111,
          93,
          94,
          61,
          97,
          115,
          64,
          82,
          96,
          99,
          106,
          78,
          93,
          73,
          94,
          92,
          107,
          86,
          106,
          117,
          96,
          75,
          85,
          90,
          117,
          100,
          109,
          100,
          106,
          108,
          99,
          110,
          92,
          105,
          105,
          91,
          110,
          60,
          95,
          87,
          80,
          101,
          89,
          105,
          70,
          93,
          112,
          95,
          78,
          103,
          120,
          97,
          105,
          97,
          91,
          81,
          85,
          109,
          79,
          100,
          76,
          99,
          120,
          114,
          117,
          110,
          83,
          92,
          86,
          97,
          82,
          113,
          106,
          86,
          125,
          103,
          62,
          92,
          79,
          85,
          95,
          98,
          94,
          87,
          98,
          101,
          102,
          77,
          84,
          107,
          67,
          90,
          97,
          78,
          93,
          106,
          76,
          69,
          111,
          84,
          113,
          84,
          99,
          90,
          97,
          82,
          86,
          99,
          82,
          103,
          112,
          87,
          105,
          77,
          100,
          89,
          89,
          50,
          100,
          84,
          74,
          96,
          95,
          66,
          67,
          85,
          82,
          74,
          111,
          96,
          83,
          101,
          98,
          68,
          96,
          98,
          88,
          106,
          89,
          80,
          91,
          93,
          101,
          92,
          98,
          89,
          85,
          89,
          96,
          108,
          92,
          95,
          85,
          91,
          67,
          85,
          78,
          70,
          107,
          86,
          92,
          70,
          73,
          100,
          49,
          87,
          46,
          75,
          92,
          54,
          85,
          119,
          56,
          72,
          90,
          89,
          94,
          99,
          83,
          105,
          63,
          89,
          71,
          67,
          86,
          78,
          81,
          65,
          92,
          75,
          92,
          107,
          77,
          80,
          61,
          111,
          65,
          98,
          97,
          90,
          90,
          43,
          82,
          57,
          81,
          96,
          98,
          97,
          78,
          114,
          79,
          65,
          61,
          98,
          96,
          91,
          81,
          73,
          108,
          78,
          52,
          119,
          109,
          78,
          99,
          68,
          114,
          95,
          72,
          69,
          94,
          83,
          80,
          83,
          74,
          82,
          103,
          114,
          52,
          86,
          58,
          110,
          61,
          46,
          95,
          49
         ],
         "xaxis": "x",
         "yaxis": "y"
        }
       ],
       "layout": {
        "barmode": "relative",
        "legend": {
         "tracegroupgap": 0
        },
        "template": {
         "data": {
          "bar": [
           {
            "error_x": {
             "color": "#2a3f5f"
            },
            "error_y": {
             "color": "#2a3f5f"
            },
            "marker": {
             "line": {
              "color": "#E5ECF6",
              "width": 0.5
             },
             "pattern": {
              "fillmode": "overlay",
              "size": 10,
              "solidity": 0.2
             }
            },
            "type": "bar"
           }
          ],
          "barpolar": [
           {
            "marker": {
             "line": {
              "color": "#E5ECF6",
              "width": 0.5
             },
             "pattern": {
              "fillmode": "overlay",
              "size": 10,
              "solidity": 0.2
             }
            },
            "type": "barpolar"
           }
          ],
          "carpet": [
           {
            "aaxis": {
             "endlinecolor": "#2a3f5f",
             "gridcolor": "white",
             "linecolor": "white",
             "minorgridcolor": "white",
             "startlinecolor": "#2a3f5f"
            },
            "baxis": {
             "endlinecolor": "#2a3f5f",
             "gridcolor": "white",
             "linecolor": "white",
             "minorgridcolor": "white",
             "startlinecolor": "#2a3f5f"
            },
            "type": "carpet"
           }
          ],
          "choropleth": [
           {
            "colorbar": {
             "outlinewidth": 0,
             "ticks": ""
            },
            "type": "choropleth"
           }
          ],
          "contour": [
           {
            "colorbar": {
             "outlinewidth": 0,
             "ticks": ""
            },
            "colorscale": [
             [
              0,
              "#0d0887"
             ],
             [
              0.1111111111111111,
              "#46039f"
             ],
             [
              0.2222222222222222,
              "#7201a8"
             ],
             [
              0.3333333333333333,
              "#9c179e"
             ],
             [
              0.4444444444444444,
              "#bd3786"
             ],
             [
              0.5555555555555556,
              "#d8576b"
             ],
             [
              0.6666666666666666,
              "#ed7953"
             ],
             [
              0.7777777777777778,
              "#fb9f3a"
             ],
             [
              0.8888888888888888,
              "#fdca26"
             ],
             [
              1,
              "#f0f921"
             ]
            ],
            "type": "contour"
           }
          ],
          "contourcarpet": [
           {
            "colorbar": {
             "outlinewidth": 0,
             "ticks": ""
            },
            "type": "contourcarpet"
           }
          ],
          "heatmap": [
           {
            "colorbar": {
             "outlinewidth": 0,
             "ticks": ""
            },
            "colorscale": [
             [
              0,
              "#0d0887"
             ],
             [
              0.1111111111111111,
              "#46039f"
             ],
             [
              0.2222222222222222,
              "#7201a8"
             ],
             [
              0.3333333333333333,
              "#9c179e"
             ],
             [
              0.4444444444444444,
              "#bd3786"
             ],
             [
              0.5555555555555556,
              "#d8576b"
             ],
             [
              0.6666666666666666,
              "#ed7953"
             ],
             [
              0.7777777777777778,
              "#fb9f3a"
             ],
             [
              0.8888888888888888,
              "#fdca26"
             ],
             [
              1,
              "#f0f921"
             ]
            ],
            "type": "heatmap"
           }
          ],
          "heatmapgl": [
           {
            "colorbar": {
             "outlinewidth": 0,
             "ticks": ""
            },
            "colorscale": [
             [
              0,
              "#0d0887"
             ],
             [
              0.1111111111111111,
              "#46039f"
             ],
             [
              0.2222222222222222,
              "#7201a8"
             ],
             [
              0.3333333333333333,
              "#9c179e"
             ],
             [
              0.4444444444444444,
              "#bd3786"
             ],
             [
              0.5555555555555556,
              "#d8576b"
             ],
             [
              0.6666666666666666,
              "#ed7953"
             ],
             [
              0.7777777777777778,
              "#fb9f3a"
             ],
             [
              0.8888888888888888,
              "#fdca26"
             ],
             [
              1,
              "#f0f921"
             ]
            ],
            "type": "heatmapgl"
           }
          ],
          "histogram": [
           {
            "marker": {
             "pattern": {
              "fillmode": "overlay",
              "size": 10,
              "solidity": 0.2
             }
            },
            "type": "histogram"
           }
          ],
          "histogram2d": [
           {
            "colorbar": {
             "outlinewidth": 0,
             "ticks": ""
            },
            "colorscale": [
             [
              0,
              "#0d0887"
             ],
             [
              0.1111111111111111,
              "#46039f"
             ],
             [
              0.2222222222222222,
              "#7201a8"
             ],
             [
              0.3333333333333333,
              "#9c179e"
             ],
             [
              0.4444444444444444,
              "#bd3786"
             ],
             [
              0.5555555555555556,
              "#d8576b"
             ],
             [
              0.6666666666666666,
              "#ed7953"
             ],
             [
              0.7777777777777778,
              "#fb9f3a"
             ],
             [
              0.8888888888888888,
              "#fdca26"
             ],
             [
              1,
              "#f0f921"
             ]
            ],
            "type": "histogram2d"
           }
          ],
          "histogram2dcontour": [
           {
            "colorbar": {
             "outlinewidth": 0,
             "ticks": ""
            },
            "colorscale": [
             [
              0,
              "#0d0887"
             ],
             [
              0.1111111111111111,
              "#46039f"
             ],
             [
              0.2222222222222222,
              "#7201a8"
             ],
             [
              0.3333333333333333,
              "#9c179e"
             ],
             [
              0.4444444444444444,
              "#bd3786"
             ],
             [
              0.5555555555555556,
              "#d8576b"
             ],
             [
              0.6666666666666666,
              "#ed7953"
             ],
             [
              0.7777777777777778,
              "#fb9f3a"
             ],
             [
              0.8888888888888888,
              "#fdca26"
             ],
             [
              1,
              "#f0f921"
             ]
            ],
            "type": "histogram2dcontour"
           }
          ],
          "mesh3d": [
           {
            "colorbar": {
             "outlinewidth": 0,
             "ticks": ""
            },
            "type": "mesh3d"
           }
          ],
          "parcoords": [
           {
            "line": {
             "colorbar": {
              "outlinewidth": 0,
              "ticks": ""
             }
            },
            "type": "parcoords"
           }
          ],
          "pie": [
           {
            "automargin": true,
            "type": "pie"
           }
          ],
          "scatter": [
           {
            "fillpattern": {
             "fillmode": "overlay",
             "size": 10,
             "solidity": 0.2
            },
            "type": "scatter"
           }
          ],
          "scatter3d": [
           {
            "line": {
             "colorbar": {
              "outlinewidth": 0,
              "ticks": ""
             }
            },
            "marker": {
             "colorbar": {
              "outlinewidth": 0,
              "ticks": ""
             }
            },
            "type": "scatter3d"
           }
          ],
          "scattercarpet": [
           {
            "marker": {
             "colorbar": {
              "outlinewidth": 0,
              "ticks": ""
             }
            },
            "type": "scattercarpet"
           }
          ],
          "scattergeo": [
           {
            "marker": {
             "colorbar": {
              "outlinewidth": 0,
              "ticks": ""
             }
            },
            "type": "scattergeo"
           }
          ],
          "scattergl": [
           {
            "marker": {
             "colorbar": {
              "outlinewidth": 0,
              "ticks": ""
             }
            },
            "type": "scattergl"
           }
          ],
          "scattermapbox": [
           {
            "marker": {
             "colorbar": {
              "outlinewidth": 0,
              "ticks": ""
             }
            },
            "type": "scattermapbox"
           }
          ],
          "scatterpolar": [
           {
            "marker": {
             "colorbar": {
              "outlinewidth": 0,
              "ticks": ""
             }
            },
            "type": "scatterpolar"
           }
          ],
          "scatterpolargl": [
           {
            "marker": {
             "colorbar": {
              "outlinewidth": 0,
              "ticks": ""
             }
            },
            "type": "scatterpolargl"
           }
          ],
          "scatterternary": [
           {
            "marker": {
             "colorbar": {
              "outlinewidth": 0,
              "ticks": ""
             }
            },
            "type": "scatterternary"
           }
          ],
          "surface": [
           {
            "colorbar": {
             "outlinewidth": 0,
             "ticks": ""
            },
            "colorscale": [
             [
              0,
              "#0d0887"
             ],
             [
              0.1111111111111111,
              "#46039f"
             ],
             [
              0.2222222222222222,
              "#7201a8"
             ],
             [
              0.3333333333333333,
              "#9c179e"
             ],
             [
              0.4444444444444444,
              "#bd3786"
             ],
             [
              0.5555555555555556,
              "#d8576b"
             ],
             [
              0.6666666666666666,
              "#ed7953"
             ],
             [
              0.7777777777777778,
              "#fb9f3a"
             ],
             [
              0.8888888888888888,
              "#fdca26"
             ],
             [
              1,
              "#f0f921"
             ]
            ],
            "type": "surface"
           }
          ],
          "table": [
           {
            "cells": {
             "fill": {
              "color": "#EBF0F8"
             },
             "line": {
              "color": "white"
             }
            },
            "header": {
             "fill": {
              "color": "#C8D4E3"
             },
             "line": {
              "color": "white"
             }
            },
            "type": "table"
           }
          ]
         },
         "layout": {
          "annotationdefaults": {
           "arrowcolor": "#2a3f5f",
           "arrowhead": 0,
           "arrowwidth": 1
          },
          "autotypenumbers": "strict",
          "coloraxis": {
           "colorbar": {
            "outlinewidth": 0,
            "ticks": ""
           }
          },
          "colorscale": {
           "diverging": [
            [
             0,
             "#8e0152"
            ],
            [
             0.1,
             "#c51b7d"
            ],
            [
             0.2,
             "#de77ae"
            ],
            [
             0.3,
             "#f1b6da"
            ],
            [
             0.4,
             "#fde0ef"
            ],
            [
             0.5,
             "#f7f7f7"
            ],
            [
             0.6,
             "#e6f5d0"
            ],
            [
             0.7,
             "#b8e186"
            ],
            [
             0.8,
             "#7fbc41"
            ],
            [
             0.9,
             "#4d9221"
            ],
            [
             1,
             "#276419"
            ]
           ],
           "sequential": [
            [
             0,
             "#0d0887"
            ],
            [
             0.1111111111111111,
             "#46039f"
            ],
            [
             0.2222222222222222,
             "#7201a8"
            ],
            [
             0.3333333333333333,
             "#9c179e"
            ],
            [
             0.4444444444444444,
             "#bd3786"
            ],
            [
             0.5555555555555556,
             "#d8576b"
            ],
            [
             0.6666666666666666,
             "#ed7953"
            ],
            [
             0.7777777777777778,
             "#fb9f3a"
            ],
            [
             0.8888888888888888,
             "#fdca26"
            ],
            [
             1,
             "#f0f921"
            ]
           ],
           "sequentialminus": [
            [
             0,
             "#0d0887"
            ],
            [
             0.1111111111111111,
             "#46039f"
            ],
            [
             0.2222222222222222,
             "#7201a8"
            ],
            [
             0.3333333333333333,
             "#9c179e"
            ],
            [
             0.4444444444444444,
             "#bd3786"
            ],
            [
             0.5555555555555556,
             "#d8576b"
            ],
            [
             0.6666666666666666,
             "#ed7953"
            ],
            [
             0.7777777777777778,
             "#fb9f3a"
            ],
            [
             0.8888888888888888,
             "#fdca26"
            ],
            [
             1,
             "#f0f921"
            ]
           ]
          },
          "colorway": [
           "#636efa",
           "#EF553B",
           "#00cc96",
           "#ab63fa",
           "#FFA15A",
           "#19d3f3",
           "#FF6692",
           "#B6E880",
           "#FF97FF",
           "#FECB52"
          ],
          "font": {
           "color": "#2a3f5f"
          },
          "geo": {
           "bgcolor": "white",
           "lakecolor": "white",
           "landcolor": "#E5ECF6",
           "showlakes": true,
           "showland": true,
           "subunitcolor": "white"
          },
          "hoverlabel": {
           "align": "left"
          },
          "hovermode": "closest",
          "mapbox": {
           "style": "light"
          },
          "paper_bgcolor": "white",
          "plot_bgcolor": "#E5ECF6",
          "polar": {
           "angularaxis": {
            "gridcolor": "white",
            "linecolor": "white",
            "ticks": ""
           },
           "bgcolor": "#E5ECF6",
           "radialaxis": {
            "gridcolor": "white",
            "linecolor": "white",
            "ticks": ""
           }
          },
          "scene": {
           "xaxis": {
            "backgroundcolor": "#E5ECF6",
            "gridcolor": "white",
            "gridwidth": 2,
            "linecolor": "white",
            "showbackground": true,
            "ticks": "",
            "zerolinecolor": "white"
           },
           "yaxis": {
            "backgroundcolor": "#E5ECF6",
            "gridcolor": "white",
            "gridwidth": 2,
            "linecolor": "white",
            "showbackground": true,
            "ticks": "",
            "zerolinecolor": "white"
           },
           "zaxis": {
            "backgroundcolor": "#E5ECF6",
            "gridcolor": "white",
            "gridwidth": 2,
            "linecolor": "white",
            "showbackground": true,
            "ticks": "",
            "zerolinecolor": "white"
           }
          },
          "shapedefaults": {
           "line": {
            "color": "#2a3f5f"
           }
          },
          "ternary": {
           "aaxis": {
            "gridcolor": "white",
            "linecolor": "white",
            "ticks": ""
           },
           "baxis": {
            "gridcolor": "white",
            "linecolor": "white",
            "ticks": ""
           },
           "bgcolor": "#E5ECF6",
           "caxis": {
            "gridcolor": "white",
            "linecolor": "white",
            "ticks": ""
           }
          },
          "title": {
           "x": 0.05
          },
          "xaxis": {
           "automargin": true,
           "gridcolor": "white",
           "linecolor": "white",
           "ticks": "",
           "title": {
            "standoff": 15
           },
           "zerolinecolor": "white",
           "zerolinewidth": 2
          },
          "yaxis": {
           "automargin": true,
           "gridcolor": "white",
           "linecolor": "white",
           "ticks": "",
           "title": {
            "standoff": 15
           },
           "zerolinecolor": "white",
           "zerolinewidth": 2
          }
         }
        },
        "title": {
         "text": "ops++ Histogram 2022 (Above 50 Plate Appearances"
        },
        "xaxis": {
         "anchor": "y",
         "domain": [
          0,
          1
         ],
         "title": {
          "text": "ops_pp"
         }
        },
        "yaxis": {
         "anchor": "x",
         "domain": [
          0,
          1
         ],
         "title": {
          "text": "count"
         }
        }
       }
      }
     },
     "metadata": {},
     "output_type": "display_data"
    }
   ],
   "source": [
    "df = px.data.tips()\n",
    "fig = px.histogram(ops_pp_df_clean, x='ops_pp', title='ops++ Histogram 2022 (Above 50 Plate Appearances')\n",
    "fig.show()"
   ]
  },
  {
   "cell_type": "markdown",
   "metadata": {},
   "source": [
    "This looks roughly normal so we can make percentiles from their ops++ if we wanted too!"
   ]
  }
 ],
 "metadata": {
  "kernelspec": {
   "display_name": "Python 3.9.6 64-bit",
   "language": "python",
   "name": "python3"
  },
  "language_info": {
   "codemirror_mode": {
    "name": "ipython",
    "version": 3
   },
   "file_extension": ".py",
   "mimetype": "text/x-python",
   "name": "python",
   "nbconvert_exporter": "python",
   "pygments_lexer": "ipython3",
   "version": "3.9.6"
  },
  "orig_nbformat": 4,
  "vscode": {
   "interpreter": {
    "hash": "31f2aee4e71d21fbe5cf8b01ff0e069b9275f58929596ceb00d14d90e3e16cd6"
   }
  }
 },
 "nbformat": 4,
 "nbformat_minor": 2
}
